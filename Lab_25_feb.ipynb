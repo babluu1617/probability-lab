{
  "nbformat": 4,
  "nbformat_minor": 0,
  "metadata": {
    "colab": {
      "provenance": [],
      "authorship_tag": "ABX9TyNLM/ZIFpDzC9rcDnua2CmE",
      "include_colab_link": true
    },
    "kernelspec": {
      "name": "python3",
      "display_name": "Python 3"
    },
    "language_info": {
      "name": "python"
    }
  },
  "cells": [
    {
      "cell_type": "markdown",
      "metadata": {
        "id": "view-in-github",
        "colab_type": "text"
      },
      "source": [
        "<a href=\"https://colab.research.google.com/github/babluu1617/probability-lab/blob/main/Lab_25_feb.ipynb\" target=\"_parent\"><img src=\"https://colab.research.google.com/assets/colab-badge.svg\" alt=\"Open In Colab\"/></a>"
      ]
    },
    {
      "cell_type": "code",
      "execution_count": null,
      "metadata": {
        "colab": {
          "base_uri": "https://localhost:8080/",
          "height": 349
        },
        "id": "MdRcM5xcMBgN",
        "outputId": "f45c512c-fadf-4b83-a874-baa43fedb2be"
      },
      "outputs": [
        {
          "output_type": "stream",
          "name": "stdout",
          "text": [
            "Enter IQ1: 85\n",
            "Enter IQ2: 115\n",
            "P(X >= 85.0) = 0.8413\n"
          ]
        },
        {
          "output_type": "error",
          "ename": "NameError",
          "evalue": "name 'p_le_IQ1' is not defined",
          "traceback": [
            "\u001b[0;31m---------------------------------------------------------------------------\u001b[0m",
            "\u001b[0;31mNameError\u001b[0m                                 Traceback (most recent call last)",
            "\u001b[0;32m<ipython-input-2-d41ad4953dab>\u001b[0m in \u001b[0;36m<cell line: 0>\u001b[0;34m()\u001b[0m\n\u001b[1;32m     18\u001b[0m \u001b[0mIQ2\u001b[0m \u001b[0;34m=\u001b[0m \u001b[0mfloat\u001b[0m\u001b[0;34m(\u001b[0m\u001b[0minput\u001b[0m\u001b[0;34m(\u001b[0m\u001b[0;34m\"Enter IQ2: \"\u001b[0m\u001b[0;34m)\u001b[0m\u001b[0;34m)\u001b[0m\u001b[0;34m\u001b[0m\u001b[0;34m\u001b[0m\u001b[0m\n\u001b[1;32m     19\u001b[0m \u001b[0;34m\u001b[0m\u001b[0m\n\u001b[0;32m---> 20\u001b[0;31m \u001b[0mcalculate_probabilities\u001b[0m\u001b[0;34m(\u001b[0m\u001b[0mIQ1\u001b[0m\u001b[0;34m,\u001b[0m\u001b[0mIQ2\u001b[0m\u001b[0;34m)\u001b[0m\u001b[0;34m\u001b[0m\u001b[0;34m\u001b[0m\u001b[0m\n\u001b[0m",
            "\u001b[0;32m<ipython-input-2-d41ad4953dab>\u001b[0m in \u001b[0;36mcalculate_probabilities\u001b[0;34m(IQ1, IQ2)\u001b[0m\n\u001b[1;32m     12\u001b[0m \u001b[0;34m\u001b[0m\u001b[0m\n\u001b[1;32m     13\u001b[0m     \u001b[0mprint\u001b[0m\u001b[0;34m(\u001b[0m\u001b[0;34mf\"P(X >= {IQ1}) = {p_ge_IQ1:.4f}\"\u001b[0m\u001b[0;34m)\u001b[0m\u001b[0;34m\u001b[0m\u001b[0;34m\u001b[0m\u001b[0m\n\u001b[0;32m---> 14\u001b[0;31m     \u001b[0mprint\u001b[0m\u001b[0;34m(\u001b[0m\u001b[0;34mf\"P(X <= {IQ1}) = {p_le_IQ1:.4f}\"\u001b[0m\u001b[0;34m)\u001b[0m\u001b[0;34m\u001b[0m\u001b[0;34m\u001b[0m\u001b[0m\n\u001b[0m\u001b[1;32m     15\u001b[0m     \u001b[0mprint\u001b[0m\u001b[0;34m(\u001b[0m\u001b[0;34mf\"P({IQ1} <= X <= {IQ2}) = {p_between_IQ1_IQ2:.4f}\"\u001b[0m\u001b[0;34m)\u001b[0m\u001b[0;34m\u001b[0m\u001b[0;34m\u001b[0m\u001b[0m\n\u001b[1;32m     16\u001b[0m \u001b[0;34m\u001b[0m\u001b[0m\n",
            "\u001b[0;31mNameError\u001b[0m: name 'p_le_IQ1' is not defined"
          ]
        }
      ],
      "source": [
        "import numpy as np\n",
        "import scipy.stats as stats\n",
        "import matplotlib.pyplot as plt\n",
        "\n",
        "def calculate_probabilities(IQ1,IQ2):\n",
        "    mean = 100\n",
        "    std_dev = 15\n",
        "\n",
        "    p_ge_IQ1 = 1-stats.norm.cdf(IQ1, mean, std_dev)\n",
        "    p_le_IQ2 = stats.norm.cdf(IQ2, mean, std_dev)\n",
        "    p_between_IQ1_IQ2 = stats.norm.cdf(IQ2, mean, std_dev) - stats.norm.cdf(IQ1, mean, std_dev)\n",
        "\n",
        "    print(f\"P(X >= {IQ1}) = {p_ge_IQ1:.4f}\")\n",
        "    print(f\"P(X <= {IQ2}) = {p_le_IQ2:.4f}\")\n",
        "    print(f\"P({IQ1} <= X <= {IQ2}) = {p_between_IQ1_IQ2:.4f}\")\n",
        "\n",
        "IQ1 = float(input(\"Enter IQ1: \"))\n",
        "IQ2 = float(input(\"Enter IQ2: \"))\n",
        "\n",
        "calculate_probabilities(IQ1,IQ2)\n"
      ]
    }
  ]
}